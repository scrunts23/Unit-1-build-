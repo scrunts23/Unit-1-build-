{
  "nbformat": 4,
  "nbformat_minor": 0,
  "metadata": {
    "colab": {
      "name": "Unit 1 Build",
      "provenance": [],
      "collapsed_sections": []
    },
    "kernelspec": {
      "name": "python3",
      "display_name": "Python 3"
    }
  },
  "cells": [
    {
      "cell_type": "code",
      "metadata": {
        "id": "g3NP9TLVNRHC",
        "colab_type": "code",
        "colab": {}
      },
      "source": [
        "# imports \n",
        "\n",
        "import pandas as pd\n",
        "import numpy as np\n",
        "import seaborn as sns\n",
        "from scipy import stats\n",
        "import scipy.stats as stats\n",
        "import matplotlib.pyplot as plt\n",
        "from scipy.stats import t, ttest_1samp"
      ],
      "execution_count": 0,
      "outputs": []
    },
    {
      "cell_type": "code",
      "metadata": {
        "id": "8GrXdqe6NWWs",
        "colab_type": "code",
        "colab": {
          "base_uri": "https://localhost:8080/",
          "height": 269
        },
        "outputId": "525a5bb3-4db5-479f-f97d-c6c3065414e6"
      },
      "source": [
        "# get data from website \n",
        "\n",
        "! wget http://openpsychometrics.org/_rawdata/NPI.zip"
      ],
      "execution_count": 0,
      "outputs": [
        {
          "output_type": "stream",
          "text": [
            "--2020-02-09 19:50:10--  http://openpsychometrics.org/_rawdata/NPI.zip\n",
            "Resolving openpsychometrics.org (openpsychometrics.org)... 69.164.197.103\n",
            "Connecting to openpsychometrics.org (openpsychometrics.org)|69.164.197.103|:80... connected.\n",
            "HTTP request sent, awaiting response... 301 Moved Permanently\n",
            "Location: https://openpsychometrics.org/_rawdata/NPI.zip [following]\n",
            "--2020-02-09 19:50:10--  https://openpsychometrics.org/_rawdata/NPI.zip\n",
            "Connecting to openpsychometrics.org (openpsychometrics.org)|69.164.197.103|:443... connected.\n",
            "HTTP request sent, awaiting response... 200 OK\n",
            "Length: 172755 (169K) [application/zip]\n",
            "Saving to: ‘NPI.zip’\n",
            "\n",
            "\rNPI.zip               0%[                    ]       0  --.-KB/s               \rNPI.zip             100%[===================>] 168.71K  --.-KB/s    in 0.1s    \n",
            "\n",
            "2020-02-09 19:50:10 (1.40 MB/s) - ‘NPI.zip’ saved [172755/172755]\n",
            "\n"
          ],
          "name": "stdout"
        }
      ]
    },
    {
      "cell_type": "code",
      "metadata": {
        "id": "7-pRfysMNWac",
        "colab_type": "code",
        "colab": {
          "base_uri": "https://localhost:8080/",
          "height": 67
        },
        "outputId": "ea83f052-92b5-40a5-dfe1-875c2c64efe9"
      },
      "source": [
        "# unzip data \n",
        "\n",
        "! unzip NPI.zip"
      ],
      "execution_count": 0,
      "outputs": [
        {
          "output_type": "stream",
          "text": [
            "Archive:  NPI.zip\n",
            "  inflating: NPI/codebook.txt        \n",
            "  inflating: NPI/data.csv            \n"
          ],
          "name": "stdout"
        }
      ]
    },
    {
      "cell_type": "code",
      "metadata": {
        "id": "ejUQ1WM2NWpv",
        "colab_type": "code",
        "colab": {
          "base_uri": "https://localhost:8080/",
          "height": 195
        },
        "outputId": "d009d8a9-a5f6-4f31-e000-5a949bfa7cbf"
      },
      "source": [
        "# read in data \n",
        "\n",
        "npi_data = pd.read_csv('NPI/data.csv')\n",
        "npi_data.sample(15)"
      ],
      "execution_count": 3,
      "outputs": [
        {
          "output_type": "error",
          "ename": "NameError",
          "evalue": "ignored",
          "traceback": [
            "\u001b[0;31m---------------------------------------------------------------------------\u001b[0m",
            "\u001b[0;31mNameError\u001b[0m                                 Traceback (most recent call last)",
            "\u001b[0;32m<ipython-input-3-1cc7a34e9314>\u001b[0m in \u001b[0;36m<module>\u001b[0;34m()\u001b[0m\n\u001b[1;32m      1\u001b[0m \u001b[0;34m\u001b[0m\u001b[0m\n\u001b[0;32m----> 2\u001b[0;31m \u001b[0mnpi_data\u001b[0m \u001b[0;34m=\u001b[0m \u001b[0mpd\u001b[0m\u001b[0;34m.\u001b[0m\u001b[0mread_csv\u001b[0m\u001b[0;34m(\u001b[0m\u001b[0;34m'NPI/data.csv'\u001b[0m\u001b[0;34m)\u001b[0m\u001b[0;34m\u001b[0m\u001b[0;34m\u001b[0m\u001b[0m\n\u001b[0m\u001b[1;32m      3\u001b[0m \u001b[0mnpi_data\u001b[0m\u001b[0;34m.\u001b[0m\u001b[0msample\u001b[0m\u001b[0;34m(\u001b[0m\u001b[0;36m15\u001b[0m\u001b[0;34m)\u001b[0m\u001b[0;34m\u001b[0m\u001b[0;34m\u001b[0m\u001b[0m\n",
            "\u001b[0;31mNameError\u001b[0m: name 'pd' is not defined"
          ]
        }
      ]
    },
    {
      "cell_type": "code",
      "metadata": {
        "id": "tXqpAuKdNWsc",
        "colab_type": "code",
        "colab": {}
      },
      "source": [
        "# describe data \n",
        "\n",
        "npi_data.describe()"
      ],
      "execution_count": 0,
      "outputs": []
    },
    {
      "cell_type": "code",
      "metadata": {
        "id": "-UZetIceNWu7",
        "colab_type": "code",
        "colab": {}
      },
      "source": [
        "# look at gender value counts \n",
        "\n",
        "npi_data['gender'].value_counts()"
      ],
      "execution_count": 0,
      "outputs": []
    },
    {
      "cell_type": "code",
      "metadata": {
        "id": "1zqej2YRNWxo",
        "colab_type": "code",
        "colab": {}
      },
      "source": [
        "# look at gender value counts \n",
        "\n",
        "npi_data['age'].value_counts()"
      ],
      "execution_count": 0,
      "outputs": []
    },
    {
      "cell_type": "code",
      "metadata": {
        "id": "USsRpzW3NW_I",
        "colab_type": "code",
        "colab": {}
      },
      "source": [
        "# looking at graph to see outliers \n",
        "\n",
        "fig, ax = plt.subplots(figsize=(12,6))\n",
        "ax.scatter(npi_data['score'], npi_data['age'])\n",
        "ax.set_xlabel('Score')\n",
        "ax.set_ylabel('Age')\n",
        "plt.show();"
      ],
      "execution_count": 0,
      "outputs": []
    },
    {
      "cell_type": "code",
      "metadata": {
        "id": "yXOKeR_hfqxp",
        "colab_type": "code",
        "colab": {}
      },
      "source": [
        "# cleaning data with age outliers\n",
        "\n",
        "index = npi_data[(npi_data['age'] >= 100)|(npi_data['age'] <= 15)].index\n",
        "npi_data.drop(index, inplace=True)\n",
        "npi_data['age'].describe()"
      ],
      "execution_count": 0,
      "outputs": []
    },
    {
      "cell_type": "code",
      "metadata": {
        "id": "yU2bu8aWomeN",
        "colab_type": "code",
        "colab": {}
      },
      "source": [
        "# cleaning data with gender \n",
        "\n",
        "index2 = npi_data[(npi_data['gender'] == 0)].index\n",
        "npi_data.drop(index2, inplace=True)\n",
        "npi_data['gender'].describe()"
      ],
      "execution_count": 0,
      "outputs": []
    },
    {
      "cell_type": "code",
      "metadata": {
        "id": "Fz3l5bzgfq6D",
        "colab_type": "code",
        "colab": {}
      },
      "source": [
        "fig, ax = plt.subplots(figsize=(12,6))\n",
        "ax.bar(npi_data['age'], npi_data['score'])\n",
        "ax.set_xlabel('Age')\n",
        "ax.set_ylabel('Score')\n",
        "plt.show();"
      ],
      "execution_count": 0,
      "outputs": []
    },
    {
      "cell_type": "code",
      "metadata": {
        "id": "sKVKTD67jmqC",
        "colab_type": "code",
        "colab": {}
      },
      "source": [
        "# scatterplot of age and score (playing with data and visulation)\n",
        "\n",
        "npi_data.plot.scatter('score', 'age');"
      ],
      "execution_count": 0,
      "outputs": []
    },
    {
      "cell_type": "code",
      "metadata": {
        "id": "NiCemFWCq7ps",
        "colab_type": "code",
        "colab": {}
      },
      "source": [
        "# create crosstab to see graph of distribution of data \n",
        "\n",
        "pd.crosstab(npi_data['score'], npi_data['gender'])"
      ],
      "execution_count": 0,
      "outputs": []
    },
    {
      "cell_type": "code",
      "metadata": {
        "id": "9cM8PM2BrQr5",
        "colab_type": "code",
        "colab": {}
      },
      "source": [
        "# crosstab visualization\n",
        "\n",
        "myresults = pd.crosstab(npi_data['score'], npi_data['gender'])"
      ],
      "execution_count": 0,
      "outputs": []
    },
    {
      "cell_type": "code",
      "metadata": {
        "id": "2iWsnlitrceC",
        "colab_type": "code",
        "colab": {}
      },
      "source": [
        "# see distrubtion of data \n",
        "\n",
        "myresults.plot(kind='bar');"
      ],
      "execution_count": 0,
      "outputs": []
    },
    {
      "cell_type": "code",
      "metadata": {
        "id": "TAWyepsEc1C8",
        "colab_type": "code",
        "colab": {}
      },
      "source": [
        "# using pdcut to add column of generation data from age column\n",
        "\n",
        "npi_data['generation_by_age'] = pd.cut(x=npi_data['age'], bins=[0, 25, 40, 55, 74, 95], labels=['Gen Z', 'Millennials', 'Gen X', 'Baby Boomer Generation', 'The Silent Generation'])"
      ],
      "execution_count": 0,
      "outputs": []
    },
    {
      "cell_type": "code",
      "metadata": {
        "id": "d2zpf_IBejXm",
        "colab_type": "code",
        "colab": {}
      },
      "source": [
        "# look at data \n",
        "\n",
        "npi_data.head()"
      ],
      "execution_count": 0,
      "outputs": []
    },
    {
      "cell_type": "code",
      "metadata": {
        "id": "9lPvvdXilLwT",
        "colab_type": "code",
        "colab": {}
      },
      "source": [
        "# look at value counts for generation by age column \n",
        "\n",
        "npi_data['generation_by_age'].value_counts()"
      ],
      "execution_count": 0,
      "outputs": []
    },
    {
      "cell_type": "code",
      "metadata": {
        "id": "2MABmBhKNW0h",
        "colab_type": "code",
        "colab": {}
      },
      "source": [
        "# create male dataframe of data\n",
        "\n",
        "male = npi_data[npi_data['gender']==1]\n",
        "male.head()"
      ],
      "execution_count": 0,
      "outputs": []
    },
    {
      "cell_type": "code",
      "metadata": {
        "id": "sHVNCrUPNW2-",
        "colab_type": "code",
        "colab": {}
      },
      "source": [
        "# create female gender dataframe of data \n",
        "\n",
        "female = npi_data[npi_data['gender']==2]\n",
        "female.head()"
      ],
      "execution_count": 0,
      "outputs": []
    },
    {
      "cell_type": "code",
      "metadata": {
        "id": "xfZloKb6prkZ",
        "colab_type": "code",
        "colab": {}
      },
      "source": [
        "# create other gender dataframe of data \n",
        "\n",
        "other = npi_data[npi_data['gender']==3]\n",
        "other.head()"
      ],
      "execution_count": 0,
      "outputs": []
    }
  ]
}